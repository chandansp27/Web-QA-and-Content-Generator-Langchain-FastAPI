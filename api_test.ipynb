{
 "cells": [
  {
   "cell_type": "code",
   "execution_count": 1,
   "metadata": {},
   "outputs": [
    {
     "data": {
      "text/plain": [
       "True"
      ]
     },
     "execution_count": 1,
     "metadata": {},
     "output_type": "execute_result"
    }
   ],
   "source": [
    "import requests\n",
    "import dotenv\n",
    "dotenv.load_dotenv()\n"
   ]
  },
  {
   "cell_type": "code",
   "execution_count": 2,
   "metadata": {},
   "outputs": [
    {
     "name": "stdout",
     "output_type": "stream",
     "text": [
      "{'answer': 'The first steps to start with FastAPI are to import FastAPI, create a FastAPI instance, and define a path operation function. You can copy the provided code snippet into a file named `main.py` and run the live server to get started.'}\n"
     ]
    }
   ],
   "source": [
    "url = 'http://127.0.0.1:8000/web_qa/'\n",
    "payload = {'url': 'https://fastapi.tiangolo.com/tutorial/first-steps/', 'question': 'what are the first steps'}\n",
    "response = requests.post(url, json=payload)\n",
    "print(response.json())"
   ]
  },
  {
   "cell_type": "code",
   "execution_count": 3,
   "metadata": {},
   "outputs": [
    {
     "name": "stdout",
     "output_type": "stream",
     "text": [
      "{'text': \"🌐📊 Welcome to our blog! Today, we delve into the world of web scraping using Beautiful Soup (bs4) - a powerful Python library for extracting data from web pages.🔍💻\\n\\nWeb scraping, the automated extraction of data from websites, has become essential in various fields such as business intelligence, market research, and data analysis. When it comes to web scraping in Python, Beautiful Soup stands out for its simplicity and flexibility.\\n\\nBeautiful Soup makes parsing HTML and XML documents straightforward, allowing you to navigate through the document tree, search for specific elements, and extract relevant information with ease. Its intuitive API makes it a popular choice among developers for web scraping projects.\\n\\nTo start web scraping with Beautiful Soup, you need to install the library and analyze the structure of the website you intend to scrape. By leveraging Beautiful Soup's methods like find(), find_all(), and select(), you can locate the desired content based on tags, classes, or attributes.\\n\\nWhen scraping data from websites, it's essential to respect the website's terms of service, robots.txt guidelines, and copyright laws. Ethical web scraping practices promote a healthy internet ecosystem and help maintain positive relationships with website owners.\\n\\nIn conclusion, web scraping using Beautiful Soup opens up a world of possibilities for gathering and analyzing data from the web. Its ease of use and robust functionality make it a valuable tool for researchers, data scientists, and developers alike. So, roll up your sleeves, dive into the world of web scraping with Beautiful Soup, and unlock valuable insights waiting to be discovered!🧠🌐\\n\\n#WebScraping #BeautifulSoup #Python #DataExtraction #DataAnalysis #TechBlog #DataScience #WebDevelopment #Programming #CodeWithPurpose\"}\n"
     ]
    }
   ],
   "source": [
    "import requests\n",
    "\n",
    "url = 'http://127.0.0.1:8000/content_creation/'\n",
    "payload = {'format': 'blog post', 'topic': 'web scraping using bs4, tone=academic, length = 300'}\n",
    "response = requests.post(url, json=payload)\n",
    "print(response.json())"
   ]
  },
  {
   "cell_type": "code",
   "execution_count": null,
   "metadata": {},
   "outputs": [],
   "source": []
  }
 ],
 "metadata": {
  "kernelspec": {
   "display_name": "assignment-env",
   "language": "python",
   "name": "python3"
  },
  "language_info": {
   "codemirror_mode": {
    "name": "ipython",
    "version": 3
   },
   "file_extension": ".py",
   "mimetype": "text/x-python",
   "name": "python",
   "nbconvert_exporter": "python",
   "pygments_lexer": "ipython3",
   "version": "3.12.3"
  }
 },
 "nbformat": 4,
 "nbformat_minor": 2
}
